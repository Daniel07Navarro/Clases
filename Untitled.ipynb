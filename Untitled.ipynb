{
 "cells": [
  {
   "cell_type": "markdown",
   "id": "c6f3e753",
   "metadata": {},
   "source": [
    "# Semana 03\n",
    "Daniel Navarro Tantalean\n",
    "\n",
    "TEMAS: 1. Números 2. Variables 3. Manejo de cadenas 4. Ingreso por teclado 5. Operadores"
   ]
  },
  {
   "cell_type": "code",
   "execution_count": null,
   "id": "5ad9f00d",
   "metadata": {},
   "outputs": [],
   "source": []
  }
 ],
 "metadata": {
  "kernelspec": {
   "display_name": "Python 3 (ipykernel)",
   "language": "python",
   "name": "python3"
  },
  "language_info": {
   "codemirror_mode": {
    "name": "ipython",
    "version": 3
   },
   "file_extension": ".py",
   "mimetype": "text/x-python",
   "name": "python",
   "nbconvert_exporter": "python",
   "pygments_lexer": "ipython3",
   "version": "3.9.12"
  }
 },
 "nbformat": 4,
 "nbformat_minor": 5
}
