{
 "cells": [
  {
   "cell_type": "markdown",
   "id": "ce04f457",
   "metadata": {},
   "source": [
    "# CLASES Y OBJETOS"
   ]
  },
  {
   "cell_type": "markdown",
   "id": "b15fc203",
   "metadata": {},
   "source": [
    "# "
   ]
  },
  {
   "cell_type": "code",
   "execution_count": 2,
   "id": "936bc5a2",
   "metadata": {},
   "outputs": [],
   "source": [
    "class Persona :\n",
    "    nombre = \"\"\n",
    "    apellidos = \"\"\n",
    "    dni = \"\"\n",
    "    talla =\"\""
   ]
  },
  {
   "cell_type": "code",
   "execution_count": 7,
   "id": "489766d1",
   "metadata": {},
   "outputs": [
    {
     "name": "stdout",
     "output_type": "stream",
     "text": [
      "Nombre: Daniel\n",
      "Apellidos: \n",
      "DNI: 73020044\n",
      "Talla: 1.6\n"
     ]
    }
   ],
   "source": [
    "persona1 =Persona()\n",
    "persona1.nombre= \"Daniel\"\n",
    "persona1.apellido= \"Navarro Tantalean\"\n",
    "persona1.dni= \"73020044\"\n",
    "persona1.talla= \"1.6\"\n",
    "\n",
    "print(\"Nombre: \"+persona1.nombre)\n",
    "print(\"Apellidos: \"+persona1.apellidos)\n",
    "print(\"DNI: \"+persona1.dni)\n",
    "print(\"Talla: \"+persona1.talla)"
   ]
  },
  {
   "cell_type": "code",
   "execution_count": 31,
   "id": "b6943afa",
   "metadata": {},
   "outputs": [
    {
     "ename": "SyntaxError",
     "evalue": "invalid non-printable character U+00A0 (2791444578.py, line 7)",
     "output_type": "error",
     "traceback": [
      "\u001b[1;36m  Input \u001b[1;32mIn [31]\u001b[1;36m\u001b[0m\n\u001b[1;33m    \u001b[0m\n\u001b[1;37m    ^\u001b[0m\n\u001b[1;31mSyntaxError\u001b[0m\u001b[1;31m:\u001b[0m invalid non-printable character U+00A0\n"
     ]
    }
   ],
   "source": [
    "##CLASE CURSO CON CONSTRUCTUR\n",
    "class curso:\n",
    "    codigo=\"\"\n",
    "    nombre=\"\"\n",
    "    horas=0\n",
    "    creditos=0\n",
    "    \n",
    "    def __init__(self,codigo,nombre,horas,creditos):\n",
    "        self.codigo=codigo\n",
    "        self.nombre=nombre\n",
    "        self.horas=horas\n",
    "        self.creditos=creditos\n",
    "        \n",
    "    def mostrar_datos_curso(self):\n",
    "        print(f\"Codigo:{self.codigo}\")\n",
    "        print(f\"Nombre:{self.nombre}\")\n",
    "        print(f\"Hora:{self.horas}\")\n",
    "        print(f\"Creditos:{self.creditos}\")"
   ]
  },
  {
   "cell_type": "code",
   "execution_count": 23,
   "id": "47a37e2e",
   "metadata": {},
   "outputs": [
    {
     "ename": "TypeError",
     "evalue": "curso() takes no arguments",
     "output_type": "error",
     "traceback": [
      "\u001b[1;31m---------------------------------------------------------------------------\u001b[0m",
      "\u001b[1;31mTypeError\u001b[0m                                 Traceback (most recent call last)",
      "Input \u001b[1;32mIn [23]\u001b[0m, in \u001b[0;36m<cell line: 1>\u001b[1;34m()\u001b[0m\n\u001b[1;32m----> 1\u001b[0m curso1 \u001b[38;5;241m=\u001b[39m \u001b[43mcurso\u001b[49m\u001b[43m(\u001b[49m\u001b[38;5;124;43m\"\u001b[39;49m\u001b[38;5;124;43m01\u001b[39;49m\u001b[38;5;124;43m\"\u001b[39;49m\u001b[43m,\u001b[49m\u001b[38;5;124;43m\"\u001b[39;49m\u001b[38;5;124;43mMatematica IV\u001b[39;49m\u001b[38;5;124;43m\"\u001b[39;49m\u001b[43m,\u001b[49m\u001b[38;5;241;43m5\u001b[39;49m\u001b[43m,\u001b[49m\u001b[38;5;241;43m5\u001b[39;49m\u001b[43m)\u001b[49m\n",
      "\u001b[1;31mTypeError\u001b[0m: curso() takes no arguments"
     ]
    }
   ],
   "source": [
    "curso1 = curso(\"01\",\"Matematica IV\",5,5)\n"
   ]
  },
  {
   "cell_type": "code",
   "execution_count": null,
   "id": "4f372aaf",
   "metadata": {},
   "outputs": [],
   "source": []
  }
 ],
 "metadata": {
  "kernelspec": {
   "display_name": "Python 3 (ipykernel)",
   "language": "python",
   "name": "python3"
  },
  "language_info": {
   "codemirror_mode": {
    "name": "ipython",
    "version": 3
   },
   "file_extension": ".py",
   "mimetype": "text/x-python",
   "name": "python",
   "nbconvert_exporter": "python",
   "pygments_lexer": "ipython3",
   "version": "3.9.12"
  }
 },
 "nbformat": 4,
 "nbformat_minor": 5
}
