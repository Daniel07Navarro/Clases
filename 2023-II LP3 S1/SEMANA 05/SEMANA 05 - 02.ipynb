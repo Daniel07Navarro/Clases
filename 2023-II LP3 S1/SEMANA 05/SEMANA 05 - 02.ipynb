{
 "cells": [
  {
   "cell_type": "markdown",
   "id": "e8b037be",
   "metadata": {},
   "source": [
    "# SEMANA 05\n",
    "Daniel Navarro Tantalean"
   ]
  },
  {
   "cell_type": "code",
   "execution_count": 3,
   "id": "00a0f6a0",
   "metadata": {},
   "outputs": [
    {
     "name": "stdout",
     "output_type": "stream",
     "text": [
      "Producto 1: 558\n",
      "Producto 2: 9655\n",
      "Producto 3: 1235\n",
      "10303.2\n"
     ]
    }
   ],
   "source": [
    "P1 = float(input(\"Producto 1: \"))\n",
    "P2 = float(input(\"Producto 2: \"))\n",
    "P3 = float(input(\"Producto 3: \"))\n",
    "total = P1+P2+P3\n",
    "if total >= 1000:\n",
    "    total = 0.9*total\n",
    "print(\"El total es: \"+total)"
   ]
  },
  {
   "cell_type": "code",
   "execution_count": 10,
   "id": "30c9f6d5",
   "metadata": {},
   "outputs": [
    {
     "name": "stdout",
     "output_type": "stream",
     "text": [
      "vegas\n"
     ]
    },
    {
     "data": {
      "text/plain": [
       "'Si pertenece a la lista'"
      ]
     },
     "execution_count": 10,
     "metadata": {},
     "output_type": "execute_result"
    }
   ],
   "source": [
    "lista = ['FIGUEROA' \n",
    "'GARCIA',\n",
    "'GUTIERREZ',\t\n",
    "'ISLA',  \n",
    "'LOPEZ', \n",
    "'LUQUE', \n",
    "'MAMANI', \t\n",
    "'MARCANI', \t\n",
    "'MONDRAGON', \t\n",
    "'MORENO',\t\n",
    "'MUÑOZ',\t\n",
    "'NAVARRO',\n",
    "'OTAZU',\n",
    "'PASCACIO', \n",
    "'RAMON', \n",
    "'TENORIO',\n",
    "'VEGAS',\n",
    "]\n",
    "nombre=input()\n",
    "nombre = nombre.upper()\n",
    "respuesta = \"\"\n",
    "for nombres in lista:\n",
    "    if nombre == nombres:\n",
    "        respuesta = \"Si pertenece a la lista\"\n",
    "    else:\n",
    "        respuesta = \"No pertenece a la lista\"\n",
    "respuesta"
   ]
  },
  {
   "cell_type": "code",
   "execution_count": 13,
   "id": "2cbcbef3",
   "metadata": {},
   "outputs": [
    {
     "name": "stdout",
     "output_type": "stream",
     "text": [
      "Ingrese el importe de ventas realizado 4556\n",
      "La categoria es: C\n"
     ]
    }
   ],
   "source": [
    "#problema 2\n",
    "ventas = float(input(\"Ingrese el importe de ventas realizado \"))\n",
    "categoria = \"\"\n",
    "if ventas <= 1000 and ventas >0:\n",
    "    categoria = \"A\"\n",
    "elif ventas >1000 and ventas <= 2000:\n",
    "    categoria = \"B\"\n",
    "elif ventas >2000 and ventas <= 5000 :\n",
    "    categoria = \"C\"\n",
    "elif ventas >5000:\n",
    "    categoria = \"D\"\n",
    "else :\n",
    "    categoria = \"Numero incorrecto\"\n",
    "print(\"La categoria es: \"+ categoria)"
   ]
  },
  {
   "cell_type": "code",
   "execution_count": 16,
   "id": "a35166f0",
   "metadata": {},
   "outputs": [
    {
     "name": "stdout",
     "output_type": "stream",
     "text": [
      "FIGUEROAGARCIA\n",
      "GUTIERREZ\n",
      "ISLA\n",
      "LOPEZ\n",
      "LUQUE\n",
      "MAMANI\n",
      "MARCANI\n",
      "MONDRAGON\n",
      "MORENO\n",
      "MUÑOZ\n",
      "NAVARRO\n",
      "OTAZU\n",
      "PASCACIO\n",
      "RAMON\n",
      "TENORIO\n",
      "VEGAS\n"
     ]
    }
   ],
   "source": [
    "for alumno in lista:\n",
    "    print(alumno)"
   ]
  },
  {
   "cell_type": "code",
   "execution_count": null,
   "id": "0a59f832",
   "metadata": {},
   "outputs": [],
   "source": []
  }
 ],
 "metadata": {
  "kernelspec": {
   "display_name": "Python 3 (ipykernel)",
   "language": "python",
   "name": "python3"
  },
  "language_info": {
   "codemirror_mode": {
    "name": "ipython",
    "version": 3
   },
   "file_extension": ".py",
   "mimetype": "text/x-python",
   "name": "python",
   "nbconvert_exporter": "python",
   "pygments_lexer": "ipython3",
   "version": "3.9.12"
  }
 },
 "nbformat": 4,
 "nbformat_minor": 5
}
