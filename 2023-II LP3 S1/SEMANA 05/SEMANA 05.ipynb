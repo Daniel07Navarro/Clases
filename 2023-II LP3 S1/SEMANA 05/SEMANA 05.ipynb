{
 "cells": [
  {
   "cell_type": "markdown",
   "id": "40d66c07",
   "metadata": {},
   "source": [
    "# SEMANA 05\n",
    "Daniel Navarro Tantalean"
   ]
  },
  {
   "cell_type": "markdown",
   "id": "a729fad0",
   "metadata": {},
   "source": [
    "Temas:\n",
    "1. Colecciones\n",
    "2. Estructuras decisivas y repetitivas\n",
    "3. Clase y Objetos\n",
    "4. Funciones"
   ]
  },
  {
   "cell_type": "markdown",
   "id": "4faf47b2",
   "metadata": {},
   "source": [
    "1. Colecciones de datos"
   ]
  },
  {
   "cell_type": "code",
   "execution_count": 3,
   "id": "ac1a31ef",
   "metadata": {},
   "outputs": [
    {
     "data": {
      "text/plain": [
       "('Navarro', 'Perez', 'Vega', 'Marcani')"
      ]
     },
     "execution_count": 3,
     "metadata": {},
     "output_type": "execute_result"
    }
   ],
   "source": [
    "##Una tupla es una coleccion de elementos ordenados\n",
    "# no se puede eliminar ni agregar elementos\n",
    "tupla = ('Navarro','Perez','Vega','Marcani')\n",
    "tupla"
   ]
  },
  {
   "cell_type": "code",
   "execution_count": 6,
   "id": "e35094e7",
   "metadata": {},
   "outputs": [
    {
     "data": {
      "text/plain": [
       "4"
      ]
     },
     "execution_count": 6,
     "metadata": {},
     "output_type": "execute_result"
    }
   ],
   "source": [
    "#tamaño de la tupla\n",
    "len(tupla) "
   ]
  },
  {
   "cell_type": "code",
   "execution_count": 5,
   "id": "02f7ec25",
   "metadata": {},
   "outputs": [
    {
     "data": {
      "text/plain": [
       "'Vega'"
      ]
     },
     "execution_count": 5,
     "metadata": {},
     "output_type": "execute_result"
    }
   ],
   "source": [
    "tupla[2]"
   ]
  },
  {
   "cell_type": "markdown",
   "id": "52297802",
   "metadata": {},
   "source": [
    "1.3 Conjuntos "
   ]
  },
  {
   "cell_type": "code",
   "execution_count": 9,
   "id": "98e3f4db",
   "metadata": {},
   "outputs": [
    {
     "data": {
      "text/plain": [
       "{'Luque', 'Moreno', 'Pascacion', 'Ramon'}"
      ]
     },
     "execution_count": 9,
     "metadata": {},
     "output_type": "execute_result"
    }
   ],
   "source": [
    "# no se puede acceder por posicion pues no consideraa indexacion\n",
    "conjunto_aula = {'Ramon','Moreno','Pascacion','Luque'}\n",
    "conjunto_aula"
   ]
  },
  {
   "cell_type": "code",
   "execution_count": 10,
   "id": "7eaae5f4",
   "metadata": {},
   "outputs": [
    {
     "name": "stdout",
     "output_type": "stream",
     "text": [
      "Ramon\n",
      "Pascacion\n",
      "Luque\n",
      "Moreno\n"
     ]
    }
   ],
   "source": [
    "for alumno in conjunto_aula:\n",
    "    print(alumno)"
   ]
  },
  {
   "cell_type": "code",
   "execution_count": 12,
   "id": "93c2b778",
   "metadata": {},
   "outputs": [
    {
     "ename": "TypeError",
     "evalue": "'set' object is not subscriptable",
     "output_type": "error",
     "traceback": [
      "\u001b[1;31m---------------------------------------------------------------------------\u001b[0m",
      "\u001b[1;31mTypeError\u001b[0m                                 Traceback (most recent call last)",
      "Input \u001b[1;32mIn [12]\u001b[0m, in \u001b[0;36m<cell line: 1>\u001b[1;34m()\u001b[0m\n\u001b[1;32m----> 1\u001b[0m \u001b[43mconjunto_aula\u001b[49m\u001b[43m[\u001b[49m\u001b[38;5;241;43m2\u001b[39;49m\u001b[43m]\u001b[49m\n",
      "\u001b[1;31mTypeError\u001b[0m: 'set' object is not subscriptable"
     ]
    }
   ],
   "source": [
    "conjunto_aula[2]"
   ]
  },
  {
   "cell_type": "code",
   "execution_count": 13,
   "id": "a9e90f0a",
   "metadata": {},
   "outputs": [
    {
     "data": {
      "text/plain": [
       "{'Luque', 'Moreno', 'Muñoz', 'Pascacion', 'Ramon'}"
      ]
     },
     "execution_count": 13,
     "metadata": {},
     "output_type": "execute_result"
    }
   ],
   "source": [
    "#Paa agregar\n",
    "conjunto_aula.add('Muñoz')\n",
    "conjunto_aula"
   ]
  },
  {
   "cell_type": "code",
   "execution_count": 14,
   "id": "8e3da783",
   "metadata": {},
   "outputs": [
    {
     "data": {
      "text/plain": [
       "{'Moreno', 'Muñoz', 'Pascacion', 'Ramon'}"
      ]
     },
     "execution_count": 14,
     "metadata": {},
     "output_type": "execute_result"
    }
   ],
   "source": [
    "#Paa eliminar\n",
    "conjunto_aula.remove('Luque')\n",
    "conjunto_aula"
   ]
  },
  {
   "cell_type": "code",
   "execution_count": 15,
   "id": "147e3f97",
   "metadata": {},
   "outputs": [
    {
     "data": {
      "text/plain": [
       "{2: 'Muñoz', 1: 'Luque', 'dos': 'Pascacio', '3': 'Navarro', '0': 'Lopez'}"
      ]
     },
     "execution_count": 15,
     "metadata": {},
     "output_type": "execute_result"
    }
   ],
   "source": [
    "#1.4\n",
    "diccionario_aula={2:'Muñoz',1:\"Luque\",'dos':'Pascacio','3':'Navarro','0':'Lopez'}\n",
    "diccionario_aula"
   ]
  },
  {
   "cell_type": "code",
   "execution_count": 16,
   "id": "f27fa071",
   "metadata": {},
   "outputs": [
    {
     "data": {
      "text/plain": [
       "'Lopez'"
      ]
     },
     "execution_count": 16,
     "metadata": {},
     "output_type": "execute_result"
    }
   ],
   "source": [
    "diccionario_aula['0']"
   ]
  },
  {
   "cell_type": "code",
   "execution_count": 18,
   "id": "826b1be7",
   "metadata": {},
   "outputs": [
    {
     "data": {
      "text/plain": [
       "{2: 'Muñoz',\n",
       " 1: 'Luque',\n",
       " 'dos': 'Pascacio',\n",
       " '3': 'Navarro',\n",
       " '0': 'Lopez',\n",
       " '20': 'Tenorio'}"
      ]
     },
     "execution_count": 18,
     "metadata": {},
     "output_type": "execute_result"
    }
   ],
   "source": [
    "#PARA AÑADIR UN DATO AL DICCIONARIO\n",
    "diccionario_aula['20'] = 'Tenorio'\n",
    "diccionario_aula"
   ]
  },
  {
   "cell_type": "code",
   "execution_count": 19,
   "id": "1c55b78c",
   "metadata": {},
   "outputs": [
    {
     "data": {
      "text/plain": [
       "{2: 'Muñoz', 1: 'Luque', '3': 'Navarro', '0': 'Lopez', '20': 'Tenorio'}"
      ]
     },
     "execution_count": 19,
     "metadata": {},
     "output_type": "execute_result"
    }
   ],
   "source": [
    "#PARA ELIMINAR UN DATO AL DICCIONARIO\n",
    "diccionario_aula.pop('dos')\n",
    "diccionario_aula"
   ]
  },
  {
   "cell_type": "code",
   "execution_count": 20,
   "id": "ceb87fb7",
   "metadata": {},
   "outputs": [
    {
     "name": "stdout",
     "output_type": "stream",
     "text": [
      "Muñoz\n",
      "Luque\n",
      "Navarro\n",
      "Lopez\n",
      "Tenorio\n"
     ]
    }
   ],
   "source": [
    "for indice in diccionario_aula:\n",
    "    print(diccionario_aula[indice])"
   ]
  },
  {
   "cell_type": "code",
   "execution_count": 21,
   "id": "310f8544",
   "metadata": {},
   "outputs": [
    {
     "name": "stdout",
     "output_type": "stream",
     "text": [
      "2 Muñoz\n",
      "1 Luque\n",
      "3 Navarro\n",
      "0 Lopez\n",
      "20 Tenorio\n"
     ]
    }
   ],
   "source": [
    "for indice,valor in diccionario_aula.items():\n",
    "    print(indice,valor)"
   ]
  },
  {
   "cell_type": "code",
   "execution_count": 22,
   "id": "9c16b61f",
   "metadata": {},
   "outputs": [
    {
     "data": {
      "text/plain": [
       "['FIGUEROAGARCIA',\n",
       " 'GUTIERREZ',\n",
       " 'ISLA',\n",
       " 'LOPEZ',\n",
       " 'LUQUE',\n",
       " 'MAMANI',\n",
       " 'MARCANI',\n",
       " 'MONDRAGON',\n",
       " 'MORENO',\n",
       " 'MUÑOZ',\n",
       " 'NAVARRO',\n",
       " 'OTAZU',\n",
       " 'PASCACIO',\n",
       " 'RAMON',\n",
       " 'TENORIO',\n",
       " 'VEGAS']"
      ]
     },
     "execution_count": 22,
     "metadata": {},
     "output_type": "execute_result"
    }
   ],
   "source": [
    "lista = ['FIGUEROA' \n",
    "'GARCIA',\n",
    "'GUTIERREZ',\t\n",
    "'ISLA',  \n",
    "'LOPEZ', \n",
    "'LUQUE', \n",
    "'MAMANI', \t\n",
    "'MARCANI', \t\n",
    "'MONDRAGON', \t\n",
    "'MORENO',\t\n",
    "'MUÑOZ',\t\n",
    "'NAVARRO',\n",
    "'OTAZU',\n",
    "'PASCACIO', \n",
    "'RAMON', \n",
    "'TENORIO',\n",
    "'VEGAS',\n",
    "]\n",
    "lista"
   ]
  },
  {
   "cell_type": "code",
   "execution_count": 33,
   "id": "04a7176e",
   "metadata": {},
   "outputs": [
    {
     "name": "stdout",
     "output_type": "stream",
     "text": [
      "vegas\n"
     ]
    },
    {
     "data": {
      "text/plain": [
       "'El alumno se encuentra'"
      ]
     },
     "execution_count": 33,
     "metadata": {},
     "output_type": "execute_result"
    }
   ],
   "source": [
    "#EJERCICIO\n",
    "lista = ['FIGUEROA' \n",
    "'GARCIA',\n",
    "'GUTIERREZ',\t\n",
    "'ISLA',  \n",
    "'LOPEZ', \n",
    "'LUQUE', \n",
    "'MAMANI', \t\n",
    "'MARCANI', \t\n",
    "'MONDRAGON', \t\n",
    "'MORENO',\t\n",
    "'MUÑOZ',\t\n",
    "'NAVARRO',\n",
    "'OTAZU',\n",
    "'PASCACIO', \n",
    "'RAMON', \n",
    "'TENORIO',\n",
    "'VEGAS',\n",
    "]\n",
    "nombre=input()\n",
    "nombre = nombre.upper()\n",
    "respuesta = \"\"\n",
    "for nombres in lista:\n",
    "    if nombre == nombres:\n",
    "        respuesta = \"El alumno se encuentra en la list\"\n",
    "    else:\n",
    "        respuesta = \"El alumno no se encuentra en la lista\"\n",
    "respuesta"
   ]
  },
  {
   "cell_type": "code",
   "execution_count": null,
   "id": "82bcd8e1",
   "metadata": {},
   "outputs": [],
   "source": []
  },
  {
   "cell_type": "code",
   "execution_count": null,
   "id": "100c94c4",
   "metadata": {},
   "outputs": [],
   "source": []
  }
 ],
 "metadata": {
  "kernelspec": {
   "display_name": "Python 3 (ipykernel)",
   "language": "python",
   "name": "python3"
  },
  "language_info": {
   "codemirror_mode": {
    "name": "ipython",
    "version": 3
   },
   "file_extension": ".py",
   "mimetype": "text/x-python",
   "name": "python",
   "nbconvert_exporter": "python",
   "pygments_lexer": "ipython3",
   "version": "3.9.12"
  }
 },
 "nbformat": 4,
 "nbformat_minor": 5
}
