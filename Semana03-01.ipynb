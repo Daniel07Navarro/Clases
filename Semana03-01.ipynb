{
 "cells": [
  {
   "cell_type": "markdown",
   "id": "aa7ce484",
   "metadata": {},
   "source": [
    "# Semana 03\n",
    "Daniel Navarro Tantalean"
   ]
  },
  {
   "cell_type": "markdown",
   "id": "d17e723f",
   "metadata": {},
   "source": [
    "TEMAS:\n",
    "    1. Números\n",
    "    2. Variables\n",
    "    3. Manejo de cadenas\n",
    "    4. Ingreso por teclado\n",
    "    5. Operadores"
   ]
  },
  {
   "cell_type": "code",
   "execution_count": 1,
   "id": "d1635675",
   "metadata": {},
   "outputs": [
    {
     "ename": "ZeroDivisionError",
     "evalue": "division by zero",
     "output_type": "error",
     "traceback": [
      "\u001b[1;31m---------------------------------------------------------------------------\u001b[0m",
      "\u001b[1;31mZeroDivisionError\u001b[0m                         Traceback (most recent call last)",
      "Input \u001b[1;32mIn [1]\u001b[0m, in \u001b[0;36m<cell line: 1>\u001b[1;34m()\u001b[0m\n\u001b[1;32m----> 1\u001b[0m \u001b[38;5;241;43m5\u001b[39;49m\u001b[38;5;241;43m/\u001b[39;49m\u001b[38;5;241;43m0\u001b[39;49m\n",
      "\u001b[1;31mZeroDivisionError\u001b[0m: division by zero"
     ]
    }
   ],
   "source": [
    "5/0"
   ]
  },
  {
   "cell_type": "code",
   "execution_count": 2,
   "id": "dbff8a54",
   "metadata": {},
   "outputs": [
    {
     "data": {
      "text/plain": [
       "39"
      ]
     },
     "execution_count": 2,
     "metadata": {},
     "output_type": "execute_result"
    }
   ],
   "source": [
    "-6+45"
   ]
  },
  {
   "cell_type": "code",
   "execution_count": 5,
   "id": "8bae95aa",
   "metadata": {},
   "outputs": [
    {
     "data": {
      "text/plain": [
       "-25"
      ]
     },
     "execution_count": 5,
     "metadata": {},
     "output_type": "execute_result"
    }
   ],
   "source": [
    "-5*5"
   ]
  },
  {
   "cell_type": "markdown",
   "id": "fc3f27e3",
   "metadata": {},
   "source": [
    "2. Variables"
   ]
  },
  {
   "cell_type": "code",
   "execution_count": 18,
   "id": "7e414f35",
   "metadata": {},
   "outputs": [
    {
     "data": {
      "text/plain": [
       "'Hola Daniel Navarro bienvenio'"
      ]
     },
     "execution_count": 18,
     "metadata": {},
     "output_type": "execute_result"
    }
   ],
   "source": [
    "nombre = \"Daniel\"\n",
    "apellido = \"Navarro\"\n",
    "nombre_completo = \"Hola {} {} bienvenio\"\n",
    "nombre_completo.format(nombre,apellido)\n"
   ]
  },
  {
   "cell_type": "code",
   "execution_count": 19,
   "id": "7eff5e24",
   "metadata": {},
   "outputs": [
    {
     "data": {
      "text/plain": [
       "float"
      ]
     },
     "execution_count": 19,
     "metadata": {},
     "output_type": "execute_result"
    }
   ],
   "source": [
    "talla = 1.90\n",
    "type(talla)"
   ]
  },
  {
   "cell_type": "markdown",
   "id": "2af70526",
   "metadata": {},
   "source": [
    "3.  Cadena"
   ]
  },
  {
   "cell_type": "code",
   "execution_count": 26,
   "id": "ace64a4b",
   "metadata": {},
   "outputs": [
    {
     "data": {
      "text/plain": [
       "' '"
      ]
     },
     "execution_count": 26,
     "metadata": {},
     "output_type": "execute_result"
    }
   ],
   "source": [
    "cadena = \"Universidad Nacional Tecnologica de Lima Sur\"\n",
    "cadena[11]"
   ]
  },
  {
   "cell_type": "code",
   "execution_count": 23,
   "id": "f775a53e",
   "metadata": {},
   "outputs": [
    {
     "data": {
      "text/plain": [
       "'a'"
      ]
     },
     "execution_count": 23,
     "metadata": {},
     "output_type": "execute_result"
    }
   ],
   "source": [
    "cadena[-5]"
   ]
  },
  {
   "cell_type": "code",
   "execution_count": 24,
   "id": "8aa5a79e",
   "metadata": {},
   "outputs": [
    {
     "data": {
      "text/plain": [
       "'T'"
      ]
     },
     "execution_count": 24,
     "metadata": {},
     "output_type": "execute_result"
    }
   ],
   "source": [
    "cadena[21]"
   ]
  },
  {
   "cell_type": "code",
   "execution_count": 27,
   "id": "0fc9e25a",
   "metadata": {},
   "outputs": [
    {
     "data": {
      "text/plain": [
       "'T'"
      ]
     },
     "execution_count": 27,
     "metadata": {},
     "output_type": "execute_result"
    }
   ],
   "source": [
    "cadena[-23]"
   ]
  },
  {
   "cell_type": "code",
   "execution_count": 29,
   "id": "918b6f52",
   "metadata": {},
   "outputs": [
    {
     "data": {
      "text/plain": [
       "'versi'"
      ]
     },
     "execution_count": 29,
     "metadata": {},
     "output_type": "execute_result"
    }
   ],
   "source": [
    "cadena[3:8] ##para obtener la cadena en un rango de caracteres [desde,hasta antes]"
   ]
  },
  {
   "cell_type": "code",
   "execution_count": 30,
   "id": "b796e562",
   "metadata": {},
   "outputs": [
    {
     "data": {
      "text/plain": [
       "44"
      ]
     },
     "execution_count": 30,
     "metadata": {},
     "output_type": "execute_result"
    }
   ],
   "source": [
    "len(cadena)"
   ]
  },
  {
   "cell_type": "code",
   "execution_count": 39,
   "id": "d897fa50",
   "metadata": {},
   "outputs": [
    {
     "data": {
      "text/plain": [
       "'universidad nacional tecnologica de lima sur'"
      ]
     },
     "execution_count": 39,
     "metadata": {},
     "output_type": "execute_result"
    }
   ],
   "source": [
    "cadena.upper() ##mayuscula\n",
    "cadena.lower() ##minuscul"
   ]
  },
  {
   "cell_type": "code",
   "execution_count": 40,
   "id": "f6d290c7",
   "metadata": {},
   "outputs": [
    {
     "data": {
      "text/plain": [
       "'Universidad Nacional Tecnologica de Lima Sur'"
      ]
     },
     "execution_count": 40,
     "metadata": {},
     "output_type": "execute_result"
    }
   ],
   "source": [
    "cadena"
   ]
  },
  {
   "cell_type": "code",
   "execution_count": 43,
   "id": "766c73b8",
   "metadata": {},
   "outputs": [
    {
     "data": {
      "text/plain": [
       "['U', 'iversidad Nacio', 'al Tec', 'ologica de Lima Sur']"
      ]
     },
     "execution_count": 43,
     "metadata": {},
     "output_type": "execute_result"
    }
   ],
   "source": [
    "cadena.split(\"n\")"
   ]
  },
  {
   "cell_type": "code",
   "execution_count": 44,
   "id": "0fd83ee4",
   "metadata": {},
   "outputs": [
    {
     "name": "stdout",
     "output_type": "stream",
     "text": [
      "hola Daniel Navarro tengo 21 años\n"
     ]
    }
   ],
   "source": [
    "nombre = \"Daniel Navarro\"\n",
    "edad = \"21\"\n",
    "print(\"hola {} tengo {} años\".format(nombre,edad))"
   ]
  },
  {
   "cell_type": "code",
   "execution_count": 46,
   "id": "14568383",
   "metadata": {},
   "outputs": [
    {
     "name": "stdout",
     "output_type": "stream",
     "text": [
      "El resultado es 3.3333333333333335\n",
      "El resultado es 3.333\n"
     ]
    }
   ],
   "source": [
    "resultado = 10/3\n",
    "print(f\"El resultado es {resultado}\")\n",
    "print(f\"El resultado es {resultado:1.3f}\")"
   ]
  },
  {
   "cell_type": "code",
   "execution_count": null,
   "id": "53e5932f",
   "metadata": {},
   "outputs": [],
   "source": []
  }
 ],
 "metadata": {
  "kernelspec": {
   "display_name": "Python 3 (ipykernel)",
   "language": "python",
   "name": "python3"
  },
  "language_info": {
   "codemirror_mode": {
    "name": "ipython",
    "version": 3
   },
   "file_extension": ".py",
   "mimetype": "text/x-python",
   "name": "python",
   "nbconvert_exporter": "python",
   "pygments_lexer": "ipython3",
   "version": "3.9.12"
  }
 },
 "nbformat": 4,
 "nbformat_minor": 5
}
